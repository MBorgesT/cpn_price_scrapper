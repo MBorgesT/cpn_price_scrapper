{
 "cells": [
  {
   "cell_type": "code",
   "execution_count": 37,
   "metadata": {},
   "outputs": [],
   "source": [
    "import pandas as pd"
   ]
  },
  {
   "cell_type": "code",
   "execution_count": 38,
   "metadata": {},
   "outputs": [
    {
     "name": "stdout",
     "output_type": "stream",
     "text": [
      "['Atum Filetes em Azeite', 'Atum Posta em Azeite', 'Sardinhas em Azeite', 'Sardinhas em Tomate']\n"
     ]
    }
   ],
   "source": [
    "xls = pd.ExcelFile('result.xlsx')\n",
    "sheet_names = xls.sheet_names\n",
    "\n",
    "print(sheet_names)"
   ]
  },
  {
   "cell_type": "code",
   "execution_count": 55,
   "metadata": {},
   "outputs": [],
   "source": [
    "for sn in sheet_names:\n",
    "    df = pd.read_excel(xls, sheet_name=sn, index_col=0)\n",
    "    df_sumarry = pd.DataFrame(columns=df.columns)\n",
    "    for brand in df['brand'].unique():\n",
    "        brand_rows = df[df['brand'] == brand]\n",
    "        row = brand_rows[brand_rows['price_per_100g'] == brand_rows['price_per_100g'].min()]\n",
    "        if len(row) > 1:\n",
    "            #new_store_name = '; '.join(sorted([x['store'] for _, x in row.iterrows()]))\n",
    "            row = row.iloc[0].to_frame().T\n",
    "            #row['store'] = new_store_name\n",
    "        df_sumarry = pd.concat((df_sumarry, row));\n",
    "    df_name = sn.replace(' ', '')\n",
    "    df_sumarry.to_csv(f'summaries/{df_name}.csv')"
   ]
  }
 ],
 "metadata": {
  "interpreter": {
   "hash": "37b6c06b068153ef79451a676d4eda6481eeed976891af2636a5a58a1b099307"
  },
  "kernelspec": {
   "display_name": "Python 3.9.7 ('base')",
   "language": "python",
   "name": "python3"
  },
  "language_info": {
   "codemirror_mode": {
    "name": "ipython",
    "version": 3
   },
   "file_extension": ".py",
   "mimetype": "text/x-python",
   "name": "python",
   "nbconvert_exporter": "python",
   "pygments_lexer": "ipython3",
   "version": "3.9.10"
  },
  "orig_nbformat": 4
 },
 "nbformat": 4,
 "nbformat_minor": 2
}
